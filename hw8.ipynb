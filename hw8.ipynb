{
 "cells": [
  {
   "cell_type": "code",
   "execution_count": 1,
   "metadata": {},
   "outputs": [
    {
     "name": "stdout",
     "output_type": "stream",
     "text": [
      "before: (2.595331667913541, 8.652928390001176, 14.017504340360802)\n",
      "after: (1.1857514883052738, 0.6211401864117173, 4.180285332307832)\n"
     ]
    }
   ],
   "source": [
    "from zhang_algorithm import Zhang\n",
    "\n",
    "from copy import deepcopy\n",
    "import numpy as np\n",
    "import cv2 as cv\n",
    "\n",
    "from scipy.optimize import least_squares\n",
    "\n",
    "# data_dir = 'Dataset1'\n",
    "# img_list = [0, 4, 9, 33]\n",
    "\n",
    "data_dir = 'Dataset2'\n",
    "img_list = [2, 7, 8, 9, 15]\n",
    "\n",
    "zhang = Zhang(data_dir=data_dir)\n",
    "valid_images, v_lines_all, h_lines_all, pts_all, H_all = zhang.get_lines_pts_H(\n",
    "                                                            img_list=img_list\n",
    "                                                            )\n",
    "omega = zhang.get_omega(H_all)\n",
    "K = zhang.get_K(omega)\n",
    "R_t = zhang.get_R_t(K, H_all)\n",
    "R_all = [r for r, _ in R_t]\n",
    "t_all = [t for _, t in R_t]\n",
    "W_all = np.concatenate(zhang.get_W(R_t), axis=0)\n",
    "\n",
    "pts_reproj_all, mu0, var0, max0 = zhang.get_reproj_error(\n",
    "    K=K,\n",
    "    R_all=R_all,\n",
    "    t_all=t_all,\n",
    "    world_pts=zhang.actual_pts_aug,\n",
    "    img_points=pts_all,\n",
    ")\n",
    "print(f\"before: {mu0, var0, max0}\")\n",
    "\n",
    "a_x = K[0][0]\n",
    "s = K[0][1]\n",
    "x_0 = K[0][2]\n",
    "a_y = K[1][1]\n",
    "y_0 = K[1][2]\n",
    "params_0 = np.array([a_x, s, x_0, a_y, y_0])\n",
    "params_0 = np.concatenate((params_0, W_all, np.concatenate(t_all, axis=0)))\n",
    "p_star = least_squares(\n",
    "    zhang.cost_f,\n",
    "    params_0,\n",
    "    method=\"lm\",\n",
    "    kwargs={\"pts_all\": pts_all, \"actual_pts_aug\": zhang.actual_pts_aug},\n",
    ")\n",
    "params = p_star['x']\n",
    "K_star = np.array([[params[0], params[1], params[2]], [0, params[3], params[4]], [0, 0, 1]])\n",
    "R_all_star = zhang.R_from_W(params[5:5+3*len(pts_all)].reshape(-1,3))\n",
    "t_all_star = params[5+3*len(pts_all):].reshape(-1, 3)\n",
    "\n",
    "pts_reproj_all_ref, mu1, var1, max1  = zhang.get_reproj_error(\n",
    "    K=K_star,\n",
    "    R_all=R_all_star,\n",
    "    t_all=t_all_star,\n",
    "    world_pts=zhang.actual_pts_aug,\n",
    "    img_points=pts_all,\n",
    ")\n",
    "print(f\"after: {mu1, var1, max1}\")"
   ]
  },
  {
   "cell_type": "code",
   "execution_count": 7,
   "metadata": {},
   "outputs": [],
   "source": [
    "from plot_helper import plot_points"
   ]
  }
 ],
 "metadata": {
  "kernelspec": {
   "display_name": "Python 3.8.13 ('ece661')",
   "language": "python",
   "name": "python3"
  },
  "language_info": {
   "codemirror_mode": {
    "name": "ipython",
    "version": 3
   },
   "file_extension": ".py",
   "mimetype": "text/x-python",
   "name": "python",
   "nbconvert_exporter": "python",
   "pygments_lexer": "ipython3",
   "version": "3.8.13"
  },
  "orig_nbformat": 4,
  "vscode": {
   "interpreter": {
    "hash": "0ae1c7a0ea8ba8f965de3a6463436fb89ce56e137873376e122f5b001a1fe97c"
   }
  }
 },
 "nbformat": 4,
 "nbformat_minor": 2
}
